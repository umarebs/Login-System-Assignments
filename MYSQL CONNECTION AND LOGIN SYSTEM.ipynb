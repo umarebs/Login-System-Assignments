{
 "cells": [
  {
   "cell_type": "markdown",
   "metadata": {},
   "source": [
    "# CONNECTION WITH MYSQL"
   ]
  },
  {
   "cell_type": "code",
   "execution_count": 35,
   "metadata": {},
   "outputs": [],
   "source": [
    "import mysql.connector\n",
    "\n",
    "mydb = mysql.connector.connect(\n",
    "  host=\"localhost\",\n",
    "  user=\"root\",\n",
    "  passwd=\"oracle123\",\n",
    "  database =\"login_system\"\n",
    ")\n",
    "mycursor =mydb.cursor()"
   ]
  },
  {
   "cell_type": "markdown",
   "metadata": {},
   "source": [
    "# DATA BASE CREATION AND CREATION OF TABLE IN MYSQL\n"
   ]
  },
  {
   "cell_type": "code",
   "execution_count": 33,
   "metadata": {},
   "outputs": [],
   "source": [
    "mycursor.execute(\"CREATE DATABASE login_system\")\n",
    "mycursor.execute(\"CREATE TABLE logsys (id INT AUTO_INCREMENT PRIMARY KEY,user_name VARCHAR(255),last_name VARCHAR(255), password VARCHAR(255),user_id VARCHAR(255) GENERATED ALWAYS AS (CONCAT(user_name,last_name)))\")\n"
   ]
  },
  {
   "cell_type": "markdown",
   "metadata": {},
   "source": [
    "# USER SIGNUP"
   ]
  },
  {
   "cell_type": "code",
   "execution_count": 6,
   "metadata": {},
   "outputs": [
    {
     "name": "stdout",
     "output_type": "stream",
     "text": [
      "******Welcome to Login System******\n",
      "If you want to signup enter yes or no in dialog box next\n",
      "Want to signup? yes\n",
      "Enter your name:Raja\n",
      "Enter your last nameIkram\n",
      "Enter password:khan387\n",
      "You have successfully sign up\n",
      "Would you like to see your credentialsyes\n",
      "Enter your name:Raja\n",
      "Your user id is: RajaIkram and password is: khan387\n"
     ]
    }
   ],
   "source": [
    "print(\"******Welcome to Login System******\")\n",
    "print(\"If you want to signup enter yes or no in dialog box next\")\n",
    "signup = input(\"Want to signup? \")\n",
    "if signup.upper() == \"YES\":\n",
    "    username= input(\"Enter your name:\")\n",
    "    last_name = input(\"Enter your last name\")\n",
    "    password= input(\"Enter password:\")\n",
    "    sql=\"INSERT INTO logsys (user_name, last_name,password) VALUES (%s, %s,%s)\"\n",
    "    val=(username,last_name,password)\n",
    "    mycursor.execute(sql,val)\n",
    "    mydb.commit()\n",
    "    print(\"You have successfully sign up\")\n",
    "    val1=input(\"Would you like to see your credentials?  \")\n",
    "    if val1.upper() == \"YES\":\n",
    "        name= input(\"Enter your name:\")\n",
    "        user_name_3=\"SELECT user_id,password FROM logsys WHERE user_name = %s\"\n",
    "        val_2 =(name,)\n",
    "        mycursor.execute(user_name_3,val_2)\n",
    "        name1= mycursor.fetchall()\n",
    "        for x in name1:\n",
    "            user_id = (x[0])\n",
    "            Password= (x[1]) \n",
    "            print(\"Your user id is:\",user_id,\"and password is:\",Password)\n",
    "    else:\n",
    "        print(\"Thank you for signing up, we will see you again!!!\")\n",
    "else:\n",
    "    print(\"Have a nice day, Thankyou for visiting\")"
   ]
  },
  {
   "cell_type": "markdown",
   "metadata": {},
   "source": [
    "# VALID LOGIN"
   ]
  },
  {
   "cell_type": "code",
   "execution_count": 32,
   "metadata": {},
   "outputs": [
    {
     "name": "stdout",
     "output_type": "stream",
     "text": [
      "#####***********welcome to login system***********#####\n",
      "Would you like to login? YES\n",
      "Enter user id? RajaIkram\n",
      "Enter password: khan387\n",
      "Welcome to login system Mr. Raja\n"
     ]
    }
   ],
   "source": [
    "print(\"#####***********welcome to login system***********#####\")\n",
    "login=input(\"Would you like to login? \")\n",
    "if login.upper() == \"YES\":\n",
    "    usr_id =input(\"Enter user id? \")\n",
    "    Password= input(\"Enter password: \")\n",
    "    user_name=\"SELECT user_name,user_id,password FROM logsys WHERE user_id = %s AND password = %s\"\n",
    "    val2=(usr_id,Password,)\n",
    "    mycursor.execute(user_name,val2)\n",
    "    name= mycursor.fetchall()\n",
    "    for x in name:\n",
    "        user_id = (x[1])\n",
    "        password= (x[2])\n",
    "        user_name1 = (x[0])\n",
    "        #print(usr_id,\"-\",Password,\"-\",user_id,\"-\",passw)\n",
    "        break\n",
    "    try:\n",
    "        if  usr_id == user_id and Password == password:\n",
    "            print(\"Welcome to login system Mr.\",user_name1)\n",
    "        else:\n",
    "            raise Exception(\"Invalid userid or password\")\n",
    "    except Exception :\n",
    "            print(\"*********Invalid userid or password*********\")\n",
    "else:\n",
    "    print(\"Thank you for connecting with us\")\n"
   ]
  },
  {
   "cell_type": "markdown",
   "metadata": {},
   "source": [
    "# INVALID LOGIN"
   ]
  },
  {
   "cell_type": "code",
   "execution_count": 36,
   "metadata": {},
   "outputs": [
    {
     "name": "stdout",
     "output_type": "stream",
     "text": [
      "#####***********welcome to login system***********#####\n",
      "Would you like to login? YES\n",
      "Enter user id? UmerAsif\n",
      "Enter password: welcome123\n",
      "*********Invalid userid or password*********\n"
     ]
    }
   ],
   "source": [
    "print(\"#####***********welcome to login system***********#####\")\n",
    "login=input(\"Would you like to login? \")\n",
    "if login.upper() == \"YES\":\n",
    "    usr_id =input(\"Enter user id? \")\n",
    "    Password= input(\"Enter password: \")\n",
    "    user_name=\"SELECT user_name,user_id,password FROM logsys WHERE user_id = %s AND password = %s\"\n",
    "    val2=(usr_id,Password,)\n",
    "    mycursor.execute(user_name,val2)\n",
    "    name= mycursor.fetchall()\n",
    "    for x in name:\n",
    "        user_id = (x[1])\n",
    "        password= (x[2])\n",
    "        user_name1 = (x[0])\n",
    "        #print(usr_id,\"-\",Password,\"-\",user_id,\"-\",passw)\n",
    "        break\n",
    "    try:\n",
    "        if  usr_id == user_id and Password == password:\n",
    "            print(\"Welcome to login system Mr.\",user_name1)\n",
    "        else:\n",
    "            raise Exception(\"Invalid userid or password\")\n",
    "    except Exception :\n",
    "            print(\"*********Invalid userid or password*********\")\n",
    "else:\n",
    "    print(\"Thank you for connecting with us\")\n"
   ]
  },
  {
   "cell_type": "markdown",
   "metadata": {},
   "source": [
    "# IF YOU DONT WANT TO LOGIN THEN"
   ]
  },
  {
   "cell_type": "code",
   "execution_count": 37,
   "metadata": {},
   "outputs": [
    {
     "name": "stdout",
     "output_type": "stream",
     "text": [
      "#####***********welcome to login system***********#####\n",
      "Would you like to login? nO\n",
      "Thank you for connecting with us\n"
     ]
    }
   ],
   "source": [
    "print(\"#####***********welcome to login system***********#####\")\n",
    "login=input(\"Would you like to login? \")\n",
    "if login.upper() == \"YES\":\n",
    "    usr_id =input(\"Enter user id? \")\n",
    "    Password= input(\"Enter password: \")\n",
    "    user_name=\"SELECT user_name,user_id,password FROM logsys WHERE user_id = %s AND password = %s\"\n",
    "    val2=(usr_id,Password,)\n",
    "    mycursor.execute(user_name,val2)\n",
    "    name= mycursor.fetchall()\n",
    "    for x in name:\n",
    "        user_id = (x[1])\n",
    "        password= (x[2])\n",
    "        user_name1 = (x[0])\n",
    "        #print(usr_id,\"-\",Password,\"-\",user_id,\"-\",passw)\n",
    "        break\n",
    "    try:\n",
    "        if  usr_id == user_id and Password == password:\n",
    "            print(\"Welcome to login system Mr.\",user_name1)\n",
    "        else:\n",
    "            raise Exception(\"Invalid userid or password\")\n",
    "    except Exception :\n",
    "            print(\"*********Invalid userid or password*********\")\n",
    "else:\n",
    "    print(\"Thank you for connecting with us\")\n"
   ]
  },
  {
   "cell_type": "markdown",
   "metadata": {},
   "source": [
    "# ----------------ROUGH-WORK----------------################################ "
   ]
  },
  {
   "cell_type": "code",
   "execution_count": 12,
   "metadata": {},
   "outputs": [
    {
     "ename": "NameError",
     "evalue": "name 'user_id' is not defined",
     "output_type": "error",
     "traceback": [
      "\u001b[1;31m---------------------------------------------------------------------------\u001b[0m",
      "\u001b[1;31mNameError\u001b[0m                                 Traceback (most recent call last)",
      "\u001b[1;32m<ipython-input-12-52f270997cb9>\u001b[0m in \u001b[0;36m<module>\u001b[1;34m\u001b[0m\n\u001b[1;32m----> 1\u001b[1;33m \u001b[0muser_id\u001b[0m\u001b[1;33m\u001b[0m\u001b[1;33m\u001b[0m\u001b[0m\n\u001b[0m",
      "\u001b[1;31mNameError\u001b[0m: name 'user_id' is not defined"
     ]
    }
   ],
   "source": [
    "user_id"
   ]
  },
  {
   "cell_type": "code",
   "execution_count": 24,
   "metadata": {},
   "outputs": [],
   "source": [
    "user_name=\"SELECT user_name,user_id,password FROM logsys WHERE user_name = %s AND password = %s\"\n",
    "val2=(usr_id,Password,)\n",
    "mycursor.execute(user_name,val2)\n",
    "y = mycursor.fetchall()\n",
    "for x in y:\n",
    "    print(x)"
   ]
  },
  {
   "cell_type": "code",
   "execution_count": 18,
   "metadata": {},
   "outputs": [
    {
     "name": "stdout",
     "output_type": "stream",
     "text": [
      "*********Invalid userid or password*********\n"
     ]
    }
   ],
   "source": [
    "if login.upper() == \"YES\":\n",
    "    user_name=\"SELECT user_name,user_id,password FROM logsys WHERE user_name = %s AND password = %s\"\n",
    "    val2=(usr_id,Password,)\n",
    "    mycursor.execute(user_name,val2)\n",
    "    name= mycursor.fetchall()\n",
    "    for x in name:\n",
    "        user_id = (x[1])\n",
    "        password= (x[2])\n",
    "        user_name1 = (x[0])\n",
    "        print(usr_id,\"-\",Password,\"-\",user_id,\"-\",passw)\n",
    "        break\n",
    "    try:\n",
    "        if  usr_id == user_id and Password == password:\n",
    "            print(\"Welcome to login system Mr.\",user_name1)\n",
    "        else:\n",
    "            raise Exception(\"Invalid userid or password\")\n",
    "    except Exception :\n",
    "            print(\"*********Invalid userid or password*********\")\n",
    "else:\n",
    "    print(\"Thank you for connecting with us\")\n"
   ]
  },
  {
   "cell_type": "code",
   "execution_count": 8,
   "metadata": {},
   "outputs": [
    {
     "name": "stdout",
     "output_type": "stream",
     "text": [
      "Enter user id? UmarAsif\n",
      "Enter password:welcome123\n",
      "*********Invalid userid or password*********\n"
     ]
    }
   ],
   "source": [
    "usr_id =input(\"Enter user id? \")\n",
    "Password= input(\"Enter password:\")\n",
    "user_name=\"SELECT user_name,user_id,password FROM logsys WHERE user_name = %s AND password = %s\"\n",
    "val=(usr_id,password,)\n",
    "mycursor.execute(user_name,val)\n",
    "name= mycursor.fetchall()\n",
    "for x in name:\n",
    "    user_id = (x[1])\n",
    "    password= (x[2])\n",
    "    user_name1 = (x[0])\n",
    "    print(user_id,\"-\",password)\n",
    "try:\n",
    "    if  usr_id == user_id and password == Password:\n",
    "        print(\"Welcome to login system Mr.\",user_name1)\n",
    "    else:\n",
    "        raise Exception(\"Invalid userid or password\")\n",
    "except Exception:\n",
    "    print(\"*********Invalid userid or password*********\")"
   ]
  },
  {
   "cell_type": "code",
   "execution_count": 10,
   "metadata": {},
   "outputs": [
    {
     "name": "stdout",
     "output_type": "stream",
     "text": [
      "Your user id is: UmarAsif and password is: welcome123\n"
     ]
    }
   ],
   "source": [
    "#name= input(\"Enter your name:\")\n",
    "#user_name_3=\"SELECT user_id,password FROM logsys\" #WHERE user_name = %sval_2 =(name,)\n",
    "mycursor.execute(\"SELECT user_id,password FROM logsys\")  \n",
    "name1= mycursor.fetchall()\n",
    "for x in name1:\n",
    "    user_id = (x[0])\n",
    "    Password= (x[1]) \n",
    "    print(\"Your user id is:\",user_id,\"and password is:\",Password)"
   ]
  },
  {
   "cell_type": "code",
   "execution_count": null,
   "metadata": {},
   "outputs": [],
   "source": []
  },
  {
   "cell_type": "code",
   "execution_count": 19,
   "metadata": {},
   "outputs": [],
   "source": []
  },
  {
   "cell_type": "code",
   "execution_count": 12,
   "metadata": {},
   "outputs": [
    {
     "name": "stdout",
     "output_type": "stream",
     "text": [
      "RajaIkram - khan387\n",
      "*********Invalid userid or password********* RajaIkram - welcome123\n"
     ]
    }
   ],
   "source": [
    "#usr_id=\"UmarAsif\"\n",
    "#Password=\"welcome123\"\n",
    "mycursor.execute(\"SELECT user_name,user_id,password FROM logsys\")\n",
    "name= mycursor.fetchall()\n",
    "for x in name:\n",
    "    user_id = (x[1])\n",
    "    password= (x[2])\n",
    "    user_name = (x[0])\n",
    "    print(usr_id,\"-\",Password)\n",
    "    break\n",
    "try:\n",
    "    if  usr_id == user_id and password == Password:\n",
    "        print(\"Welcome to login system Mr.\",user_name)\n",
    "    else:\n",
    "        raise Exception(\"Invalid userid or password\")\n",
    "except Exception:\n",
    "    print(\"*********Invalid userid or password*********\",usr_id,\"-\",password)"
   ]
  },
  {
   "cell_type": "code",
   "execution_count": 13,
   "metadata": {},
   "outputs": [
    {
     "ename": "NoConsoleScreenBufferError",
     "evalue": "Found xterm-color, while expecting a Windows console. Maybe try to run this program using \"winpty\" or run it in cmd.exe instead. Or otherwise, in case of Cygwin, use the Python executable that is compiled for Cygwin.",
     "output_type": "error",
     "traceback": [
      "\u001b[1;31m---------------------------------------------------------------------------\u001b[0m",
      "\u001b[1;31mKeyError\u001b[0m                                  Traceback (most recent call last)",
      "\u001b[1;32mg:\\Anaconda3\\lib\\site-packages\\prompt_toolkit\\eventloop\\context.py\u001b[0m in \u001b[0;36mget\u001b[1;34m(self)\u001b[0m\n\u001b[0;32m     87\u001b[0m             \u001b[0mctx\u001b[0m \u001b[1;33m=\u001b[0m \u001b[0mget_context_id\u001b[0m\u001b[1;33m(\u001b[0m\u001b[1;33m)\u001b[0m\u001b[1;33m\u001b[0m\u001b[1;33m\u001b[0m\u001b[0m\n\u001b[1;32m---> 88\u001b[1;33m             \u001b[1;32mreturn\u001b[0m \u001b[0mself\u001b[0m\u001b[1;33m.\u001b[0m\u001b[0m_storage\u001b[0m\u001b[1;33m[\u001b[0m\u001b[0mctx\u001b[0m\u001b[1;33m]\u001b[0m\u001b[1;33m\u001b[0m\u001b[1;33m\u001b[0m\u001b[0m\n\u001b[0m\u001b[0;32m     89\u001b[0m         \u001b[1;32mexcept\u001b[0m \u001b[0mKeyError\u001b[0m\u001b[1;33m:\u001b[0m\u001b[1;33m\u001b[0m\u001b[1;33m\u001b[0m\u001b[0m\n",
      "\u001b[1;31mKeyError\u001b[0m: 0",
      "\nDuring handling of the above exception, another exception occurred:\n",
      "\u001b[1;31mTaskLocalNotSetError\u001b[0m                      Traceback (most recent call last)",
      "\u001b[1;32mg:\\Anaconda3\\lib\\site-packages\\prompt_toolkit\\output\\defaults.py\u001b[0m in \u001b[0;36mget_default_output\u001b[1;34m()\u001b[0m\n\u001b[0;32m     51\u001b[0m     \u001b[1;32mtry\u001b[0m\u001b[1;33m:\u001b[0m\u001b[1;33m\u001b[0m\u001b[1;33m\u001b[0m\u001b[0m\n\u001b[1;32m---> 52\u001b[1;33m         \u001b[0mvalue\u001b[0m \u001b[1;33m=\u001b[0m \u001b[0m_default_output\u001b[0m\u001b[1;33m.\u001b[0m\u001b[0mget\u001b[0m\u001b[1;33m(\u001b[0m\u001b[1;33m)\u001b[0m\u001b[1;33m\u001b[0m\u001b[1;33m\u001b[0m\u001b[0m\n\u001b[0m\u001b[0;32m     53\u001b[0m     \u001b[1;32mexcept\u001b[0m \u001b[0mTaskLocalNotSetError\u001b[0m\u001b[1;33m:\u001b[0m\u001b[1;33m\u001b[0m\u001b[1;33m\u001b[0m\u001b[0m\n",
      "\u001b[1;32mg:\\Anaconda3\\lib\\site-packages\\prompt_toolkit\\eventloop\\context.py\u001b[0m in \u001b[0;36mget\u001b[1;34m(self)\u001b[0m\n\u001b[0;32m     89\u001b[0m         \u001b[1;32mexcept\u001b[0m \u001b[0mKeyError\u001b[0m\u001b[1;33m:\u001b[0m\u001b[1;33m\u001b[0m\u001b[1;33m\u001b[0m\u001b[0m\n\u001b[1;32m---> 90\u001b[1;33m             \u001b[1;32mraise\u001b[0m \u001b[0mTaskLocalNotSetError\u001b[0m\u001b[1;33m\u001b[0m\u001b[1;33m\u001b[0m\u001b[0m\n\u001b[0m\u001b[0;32m     91\u001b[0m \u001b[1;33m\u001b[0m\u001b[0m\n",
      "\u001b[1;31mTaskLocalNotSetError\u001b[0m: ",
      "\nDuring handling of the above exception, another exception occurred:\n",
      "\u001b[1;31mNoConsoleScreenBufferError\u001b[0m                Traceback (most recent call last)",
      "\u001b[1;32m<ipython-input-13-661a36643068>\u001b[0m in \u001b[0;36m<module>\u001b[1;34m\u001b[0m\n\u001b[0;32m      2\u001b[0m \u001b[1;32mimport\u001b[0m \u001b[0mgetpass\u001b[0m\u001b[1;33m\u001b[0m\u001b[1;33m\u001b[0m\u001b[0m\n\u001b[0;32m      3\u001b[0m \u001b[1;33m\u001b[0m\u001b[0m\n\u001b[1;32m----> 4\u001b[1;33m \u001b[0mname\u001b[0m \u001b[1;33m=\u001b[0m \u001b[0mprompt\u001b[0m\u001b[1;33m(\u001b[0m\u001b[1;34m\"Username: \"\u001b[0m\u001b[1;33m)\u001b[0m\u001b[1;33m\u001b[0m\u001b[1;33m\u001b[0m\u001b[0m\n\u001b[0m\u001b[0;32m      5\u001b[0m \u001b[0mpasswd\u001b[0m \u001b[1;33m=\u001b[0m \u001b[0mprompt\u001b[0m\u001b[1;33m(\u001b[0m\u001b[1;34m\"Password: \"\u001b[0m\u001b[1;33m,\u001b[0m \u001b[0mis_password\u001b[0m\u001b[1;33m=\u001b[0m\u001b[1;32mTrue\u001b[0m\u001b[1;33m)\u001b[0m\u001b[1;33m\u001b[0m\u001b[1;33m\u001b[0m\u001b[0m\n\u001b[0;32m      6\u001b[0m \u001b[1;33m\u001b[0m\u001b[0m\n",
      "\u001b[1;32mg:\\Anaconda3\\lib\\site-packages\\prompt_toolkit\\shortcuts\\prompt.py\u001b[0m in \u001b[0;36mprompt\u001b[1;34m(*a, **kw)\u001b[0m\n\u001b[0;32m    842\u001b[0m     \u001b[0mhistory\u001b[0m \u001b[1;33m=\u001b[0m \u001b[0mkw\u001b[0m\u001b[1;33m.\u001b[0m\u001b[0mpop\u001b[0m\u001b[1;33m(\u001b[0m\u001b[1;34m'history'\u001b[0m\u001b[1;33m,\u001b[0m \u001b[1;32mNone\u001b[0m\u001b[1;33m)\u001b[0m\u001b[1;33m\u001b[0m\u001b[1;33m\u001b[0m\u001b[0m\n\u001b[0;32m    843\u001b[0m \u001b[1;33m\u001b[0m\u001b[0m\n\u001b[1;32m--> 844\u001b[1;33m     \u001b[0msession\u001b[0m \u001b[1;33m=\u001b[0m \u001b[0mPromptSession\u001b[0m\u001b[1;33m(\u001b[0m\u001b[0minput\u001b[0m\u001b[1;33m=\u001b[0m\u001b[0minput\u001b[0m\u001b[1;33m,\u001b[0m \u001b[0moutput\u001b[0m\u001b[1;33m=\u001b[0m\u001b[0moutput\u001b[0m\u001b[1;33m,\u001b[0m \u001b[0mhistory\u001b[0m\u001b[1;33m=\u001b[0m\u001b[0mhistory\u001b[0m\u001b[1;33m)\u001b[0m\u001b[1;33m\u001b[0m\u001b[1;33m\u001b[0m\u001b[0m\n\u001b[0m\u001b[0;32m    845\u001b[0m     \u001b[1;32mreturn\u001b[0m \u001b[0msession\u001b[0m\u001b[1;33m.\u001b[0m\u001b[0mprompt\u001b[0m\u001b[1;33m(\u001b[0m\u001b[1;33m*\u001b[0m\u001b[0ma\u001b[0m\u001b[1;33m,\u001b[0m \u001b[1;33m**\u001b[0m\u001b[0mkw\u001b[0m\u001b[1;33m)\u001b[0m\u001b[1;33m\u001b[0m\u001b[1;33m\u001b[0m\u001b[0m\n\u001b[0;32m    846\u001b[0m \u001b[1;33m\u001b[0m\u001b[0m\n",
      "\u001b[1;32mg:\\Anaconda3\\lib\\site-packages\\prompt_toolkit\\shortcuts\\prompt.py\u001b[0m in \u001b[0;36m__init__\u001b[1;34m(self, message, multiline, wrap_lines, is_password, vi_mode, editing_mode, complete_while_typing, validate_while_typing, enable_history_search, search_ignore_case, lexer, enable_system_prompt, enable_suspend, enable_open_in_editor, validator, completer, complete_in_thread, reserve_space_for_menu, complete_style, auto_suggest, style, style_transformation, swap_light_and_dark_colors, color_depth, include_default_pygments_style, history, clipboard, prompt_continuation, rprompt, bottom_toolbar, mouse_support, input_processors, key_bindings, erase_when_done, tempfile_suffix, inputhook, refresh_interval, input, output)\u001b[0m\n\u001b[0;32m    283\u001b[0m \u001b[1;33m\u001b[0m\u001b[0m\n\u001b[0;32m    284\u001b[0m         \u001b[1;31m# Defaults.\u001b[0m\u001b[1;33m\u001b[0m\u001b[1;33m\u001b[0m\u001b[1;33m\u001b[0m\u001b[0m\n\u001b[1;32m--> 285\u001b[1;33m         \u001b[0moutput\u001b[0m \u001b[1;33m=\u001b[0m \u001b[0moutput\u001b[0m \u001b[1;32mor\u001b[0m \u001b[0mget_default_output\u001b[0m\u001b[1;33m(\u001b[0m\u001b[1;33m)\u001b[0m\u001b[1;33m\u001b[0m\u001b[1;33m\u001b[0m\u001b[0m\n\u001b[0m\u001b[0;32m    286\u001b[0m         \u001b[0minput\u001b[0m \u001b[1;33m=\u001b[0m \u001b[0minput\u001b[0m \u001b[1;32mor\u001b[0m \u001b[0mget_default_input\u001b[0m\u001b[1;33m(\u001b[0m\u001b[1;33m)\u001b[0m\u001b[1;33m\u001b[0m\u001b[1;33m\u001b[0m\u001b[0m\n\u001b[0;32m    287\u001b[0m \u001b[1;33m\u001b[0m\u001b[0m\n",
      "\u001b[1;32mg:\\Anaconda3\\lib\\site-packages\\prompt_toolkit\\output\\defaults.py\u001b[0m in \u001b[0;36mget_default_output\u001b[1;34m()\u001b[0m\n\u001b[0;32m     59\u001b[0m             \u001b[1;32mreturn\u001b[0m \u001b[0mapp\u001b[0m\u001b[1;33m.\u001b[0m\u001b[0moutput\u001b[0m\u001b[1;33m\u001b[0m\u001b[1;33m\u001b[0m\u001b[0m\n\u001b[0;32m     60\u001b[0m \u001b[1;33m\u001b[0m\u001b[0m\n\u001b[1;32m---> 61\u001b[1;33m         \u001b[1;32mreturn\u001b[0m \u001b[0mcreate_output\u001b[0m\u001b[1;33m(\u001b[0m\u001b[1;33m)\u001b[0m\u001b[1;33m\u001b[0m\u001b[1;33m\u001b[0m\u001b[0m\n\u001b[0m\u001b[0;32m     62\u001b[0m     \u001b[1;32melse\u001b[0m\u001b[1;33m:\u001b[0m\u001b[1;33m\u001b[0m\u001b[1;33m\u001b[0m\u001b[0m\n\u001b[0;32m     63\u001b[0m         \u001b[1;32mreturn\u001b[0m \u001b[0mvalue\u001b[0m\u001b[1;33m\u001b[0m\u001b[1;33m\u001b[0m\u001b[0m\n",
      "\u001b[1;32mg:\\Anaconda3\\lib\\site-packages\\prompt_toolkit\\output\\defaults.py\u001b[0m in \u001b[0;36mcreate_output\u001b[1;34m(stdout)\u001b[0m\n\u001b[0;32m     33\u001b[0m             \u001b[1;32mreturn\u001b[0m \u001b[0mConEmuOutput\u001b[0m\u001b[1;33m(\u001b[0m\u001b[0mstdout\u001b[0m\u001b[1;33m)\u001b[0m\u001b[1;33m\u001b[0m\u001b[1;33m\u001b[0m\u001b[0m\n\u001b[0;32m     34\u001b[0m         \u001b[1;32melse\u001b[0m\u001b[1;33m:\u001b[0m\u001b[1;33m\u001b[0m\u001b[1;33m\u001b[0m\u001b[0m\n\u001b[1;32m---> 35\u001b[1;33m             \u001b[1;32mreturn\u001b[0m \u001b[0mWin32Output\u001b[0m\u001b[1;33m(\u001b[0m\u001b[0mstdout\u001b[0m\u001b[1;33m)\u001b[0m\u001b[1;33m\u001b[0m\u001b[1;33m\u001b[0m\u001b[0m\n\u001b[0m\u001b[0;32m     36\u001b[0m     \u001b[1;32melse\u001b[0m\u001b[1;33m:\u001b[0m\u001b[1;33m\u001b[0m\u001b[1;33m\u001b[0m\u001b[0m\n\u001b[0;32m     37\u001b[0m         \u001b[1;32mfrom\u001b[0m \u001b[1;33m.\u001b[0m\u001b[0mvt100\u001b[0m \u001b[1;32mimport\u001b[0m \u001b[0mVt100_Output\u001b[0m\u001b[1;33m\u001b[0m\u001b[1;33m\u001b[0m\u001b[0m\n",
      "\u001b[1;32mg:\\Anaconda3\\lib\\site-packages\\prompt_toolkit\\output\\win32.py\u001b[0m in \u001b[0;36m__init__\u001b[1;34m(self, stdout, use_complete_width)\u001b[0m\n\u001b[0;32m     81\u001b[0m \u001b[1;33m\u001b[0m\u001b[0m\n\u001b[0;32m     82\u001b[0m         \u001b[1;31m# Remember the default console colors.\u001b[0m\u001b[1;33m\u001b[0m\u001b[1;33m\u001b[0m\u001b[1;33m\u001b[0m\u001b[0m\n\u001b[1;32m---> 83\u001b[1;33m         \u001b[0minfo\u001b[0m \u001b[1;33m=\u001b[0m \u001b[0mself\u001b[0m\u001b[1;33m.\u001b[0m\u001b[0mget_win32_screen_buffer_info\u001b[0m\u001b[1;33m(\u001b[0m\u001b[1;33m)\u001b[0m\u001b[1;33m\u001b[0m\u001b[1;33m\u001b[0m\u001b[0m\n\u001b[0m\u001b[0;32m     84\u001b[0m         \u001b[0mself\u001b[0m\u001b[1;33m.\u001b[0m\u001b[0mdefault_attrs\u001b[0m \u001b[1;33m=\u001b[0m \u001b[0minfo\u001b[0m\u001b[1;33m.\u001b[0m\u001b[0mwAttributes\u001b[0m \u001b[1;32mif\u001b[0m \u001b[0minfo\u001b[0m \u001b[1;32melse\u001b[0m \u001b[1;36m15\u001b[0m\u001b[1;33m\u001b[0m\u001b[1;33m\u001b[0m\u001b[0m\n\u001b[0;32m     85\u001b[0m \u001b[1;33m\u001b[0m\u001b[0m\n",
      "\u001b[1;32mg:\\Anaconda3\\lib\\site-packages\\prompt_toolkit\\output\\win32.py\u001b[0m in \u001b[0;36mget_win32_screen_buffer_info\u001b[1;34m(self)\u001b[0m\n\u001b[0;32m    176\u001b[0m             \u001b[1;32mreturn\u001b[0m \u001b[0msbinfo\u001b[0m\u001b[1;33m\u001b[0m\u001b[1;33m\u001b[0m\u001b[0m\n\u001b[0;32m    177\u001b[0m         \u001b[1;32melse\u001b[0m\u001b[1;33m:\u001b[0m\u001b[1;33m\u001b[0m\u001b[1;33m\u001b[0m\u001b[0m\n\u001b[1;32m--> 178\u001b[1;33m             \u001b[1;32mraise\u001b[0m \u001b[0mNoConsoleScreenBufferError\u001b[0m\u001b[1;33m\u001b[0m\u001b[1;33m\u001b[0m\u001b[0m\n\u001b[0m\u001b[0;32m    179\u001b[0m \u001b[1;33m\u001b[0m\u001b[0m\n\u001b[0;32m    180\u001b[0m     \u001b[1;32mdef\u001b[0m \u001b[0mset_title\u001b[0m\u001b[1;33m(\u001b[0m\u001b[0mself\u001b[0m\u001b[1;33m,\u001b[0m \u001b[0mtitle\u001b[0m\u001b[1;33m)\u001b[0m\u001b[1;33m:\u001b[0m\u001b[1;33m\u001b[0m\u001b[1;33m\u001b[0m\u001b[0m\n",
      "\u001b[1;31mNoConsoleScreenBufferError\u001b[0m: Found xterm-color, while expecting a Windows console. Maybe try to run this program using \"winpty\" or run it in cmd.exe instead. Or otherwise, in case of Cygwin, use the Python executable that is compiled for Cygwin."
     ]
    }
   ],
   "source": [
    "from prompt_toolkit import prompt\n",
    "import getpass\n",
    " \n",
    "name = prompt(\"Username: \")\n",
    "passwd = prompt(\"Password: \", is_password=True)\n",
    " \n"
   ]
  },
  {
   "cell_type": "code",
   "execution_count": null,
   "metadata": {},
   "outputs": [],
   "source": []
  },
  {
   "cell_type": "code",
   "execution_count": null,
   "metadata": {},
   "outputs": [],
   "source": []
  }
 ],
 "metadata": {
  "kernelspec": {
   "display_name": "Python 3",
   "language": "python",
   "name": "python3"
  },
  "language_info": {
   "codemirror_mode": {
    "name": "ipython",
    "version": 3
   },
   "file_extension": ".py",
   "mimetype": "text/x-python",
   "name": "python",
   "nbconvert_exporter": "python",
   "pygments_lexer": "ipython3",
   "version": "3.7.3"
  }
 },
 "nbformat": 4,
 "nbformat_minor": 2
}
