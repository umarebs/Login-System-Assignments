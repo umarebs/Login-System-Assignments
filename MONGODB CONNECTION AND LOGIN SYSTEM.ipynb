{
 "cells": [
  {
   "cell_type": "markdown",
   "metadata": {},
   "source": [
    "# Connection with MONGODB AND COLLECTION CREATION"
   ]
  },
  {
   "cell_type": "code",
   "execution_count": 1,
   "metadata": {},
   "outputs": [],
   "source": [
    "import pymongo\n",
    "\n",
    "myclient = pymongo.MongoClient(\"mongodb://localhost:27017/\")\n",
    "mydb = myclient[\"mydatabase\"]\n",
    "my_col = mydb[\"login System\"]\n",
    "mydict = { \"name\": \" \", \"user_name\":\" \", \"password\": \" \" }\n"
   ]
  },
  {
   "cell_type": "markdown",
   "metadata": {},
   "source": [
    "# USER SIGNUP"
   ]
  },
  {
   "cell_type": "code",
   "execution_count": 11,
   "metadata": {},
   "outputs": [
    {
     "name": "stdout",
     "output_type": "stream",
     "text": [
      "******Welcome to Login System******\n",
      "If you want to signup enter yes or no in dialog box next\n",
      "Want to signup? yes\n",
      "Enter your full name: Umar Asif\n",
      "Enter your user name: umerjee41\n",
      "Enter password:umer321\n",
      "You have successfully sign up\n",
      "Would you like to see your credentials?  yes\n",
      "Enter your full name:Umar Asif\n",
      "Your user id is: umerjee41 and password is: umer321\n"
     ]
    }
   ],
   "source": [
    "print(\"******Welcome to Login System******\")\n",
    "print(\"If you want to signup enter yes or no in dialog box next\")\n",
    "signup = input(\"Want to signup? \")\n",
    "if signup.upper() == \"YES\":\n",
    "    full_name= input(\"Enter your full name: \")\n",
    "    user_name= input(\"Enter your user name: \")\n",
    "    password= input(\"Enter password:\")\n",
    "    mydict[\"name\"]= full_name\n",
    "    mydict[\"user_name\"]=user_name\n",
    "    mydict[\"password\"]=password\n",
    "    my_col.insert_one(mydict) \n",
    "    print(\"You have successfully sign up\")\n",
    "    val1=input(\"Would you like to see your credentials?  \")\n",
    "    if val1.upper() == \"YES\":\n",
    "        name= input(\"Enter your full name:\")\n",
    "        user_name_find={\"name\": name}\n",
    "        for x in name:\n",
    "                name2 = my_col.find(user_name_find)\n",
    "                break\n",
    "        for i in name2:\n",
    "                print(\"Your user id is:\",i[\"user_name\"],\"and password is:\",i[\"password\"])\n",
    "                break\n",
    "    else:\n",
    "        print(\"Thank you for signing up, we will see you again!!!\")\n",
    "else:\n",
    "    print(\"Have a nice day, Thankyou for visiting\")"
   ]
  },
  {
   "cell_type": "markdown",
   "metadata": {},
   "source": [
    "# VALID LOGIN"
   ]
  },
  {
   "cell_type": "code",
   "execution_count": 12,
   "metadata": {},
   "outputs": [
    {
     "name": "stdout",
     "output_type": "stream",
     "text": [
      "#####***********welcome to login system***********#####\n",
      "Would you like to login? yes\n",
      "Enter user id? umerjee41\n",
      "Enter password: umer321\n",
      "Welcome to login system Mr. Umar Asif\n"
     ]
    }
   ],
   "source": [
    "print(\"#####***********welcome to login system***********#####\")\n",
    "login=input(\"Would you like to login? \")\n",
    "if login.upper() == \"YES\":\n",
    "    usr_id =input(\"Enter user id? \")\n",
    "    Password= input(\"Enter password: \")\n",
    "    user_name_find2={\"user_name\": usr_id}\n",
    "    name4 = my_col.find(user_name_find2)\n",
    "    for i in name4:\n",
    "        user_id = i[\"user_name\"]\n",
    "        password= i[\"password\"]\n",
    "        user_name1=i[\"name\"]\n",
    "        #print(usr_id,\"-\",Password,\"-\",user_id,\"-\",passw)\n",
    "        break\n",
    "    try:\n",
    "        if  usr_id == user_id and Password == password:\n",
    "            print(\"Welcome to login system Mr.\",user_name1)\n",
    "        else:\n",
    "            raise Exception(\"Invalid userid or password\")\n",
    "    except Exception :\n",
    "            print(\"*********Invalid userid or password*********\")\n",
    "else:\n",
    "    print(\"Thank you for connecting with us\")\n"
   ]
  },
  {
   "cell_type": "markdown",
   "metadata": {},
   "source": [
    "# INVALID LOGIN"
   ]
  },
  {
   "cell_type": "code",
   "execution_count": 13,
   "metadata": {},
   "outputs": [
    {
     "name": "stdout",
     "output_type": "stream",
     "text": [
      "#####***********welcome to login system***********#####\n",
      "Would you like to login? yes\n",
      "Enter user id? umarjee41\n",
      "Enter password: umer321\n",
      "*********Invalid userid or password*********\n"
     ]
    }
   ],
   "source": [
    "print(\"#####***********welcome to login system***********#####\")\n",
    "login=input(\"Would you like to login? \")\n",
    "if login.upper() == \"YES\":\n",
    "    usr_id =input(\"Enter user id? \")\n",
    "    Password= input(\"Enter password: \")\n",
    "    user_name_find2={\"user_name\": usr_id}\n",
    "    name4 = my_col.find(user_name_find2)\n",
    "    for i in name4:\n",
    "        user_id = i[\"user_name\"]\n",
    "        password= i[\"password\"]\n",
    "        user_name1=i[\"name\"]\n",
    "        #print(usr_id,\"-\",Password,\"-\",user_id,\"-\",passw)\n",
    "        break\n",
    "    try:\n",
    "        if  usr_id == user_id and Password == password:\n",
    "            print(\"Welcome to login system Mr.\",user_name1)\n",
    "        else:\n",
    "            raise Exception(\"Invalid userid or password\")\n",
    "    except Exception :\n",
    "            print(\"*********Invalid userid or password*********\")\n",
    "else:\n",
    "    print(\"Thank you for connecting with us\")\n"
   ]
  },
  {
   "cell_type": "markdown",
   "metadata": {},
   "source": [
    "# Rough Work"
   ]
  },
  {
   "cell_type": "code",
   "execution_count": 4,
   "metadata": {},
   "outputs": [
    {
     "name": "stdout",
     "output_type": "stream",
     "text": [
      "false\n"
     ]
    }
   ],
   "source": [
    "dblist = myclient.list_database_names()\n",
    "if \"login system\" in dblist:\n",
    "    print(\"The database exists.\")\n",
    "else:\n",
    "    print(\"false\")"
   ]
  },
  {
   "cell_type": "code",
   "execution_count": 9,
   "metadata": {},
   "outputs": [],
   "source": [
    "for a in my_col.find():\n",
    "    print(a)"
   ]
  },
  {
   "cell_type": "code",
   "execution_count": 8,
   "metadata": {},
   "outputs": [
    {
     "data": {
      "text/plain": [
       "<pymongo.results.DeleteResult at 0x4f06b98>"
      ]
     },
     "execution_count": 8,
     "metadata": {},
     "output_type": "execute_result"
    }
   ],
   "source": [
    "my_col.delete_many({})"
   ]
  },
  {
   "cell_type": "code",
   "execution_count": 10,
   "metadata": {},
   "outputs": [],
   "source": [
    "#x = my_col.insert_one(mydict)"
   ]
  }
 ],
 "metadata": {
  "kernelspec": {
   "display_name": "Python 3",
   "language": "python",
   "name": "python3"
  },
  "language_info": {
   "codemirror_mode": {
    "name": "ipython",
    "version": 3
   },
   "file_extension": ".py",
   "mimetype": "text/x-python",
   "name": "python",
   "nbconvert_exporter": "python",
   "pygments_lexer": "ipython3",
   "version": "3.7.3"
  }
 },
 "nbformat": 4,
 "nbformat_minor": 2
}
